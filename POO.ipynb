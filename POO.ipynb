{
 "cells": [
  {
   "cell_type": "code",
   "execution_count": 1,
   "id": "893b9d9a",
   "metadata": {},
   "outputs": [
    {
     "data": {
      "text/plain": [
       "object"
      ]
     },
     "execution_count": 1,
     "metadata": {},
     "output_type": "execute_result"
    }
   ],
   "source": [
    "object"
   ]
  },
  {
   "cell_type": "code",
   "execution_count": 2,
   "id": "1da3da01",
   "metadata": {},
   "outputs": [
    {
     "data": {
      "text/plain": [
       "int"
      ]
     },
     "execution_count": 2,
     "metadata": {},
     "output_type": "execute_result"
    }
   ],
   "source": [
    "int"
   ]
  },
  {
   "cell_type": "code",
   "execution_count": 3,
   "id": "bca92c00",
   "metadata": {},
   "outputs": [
    {
     "data": {
      "text/plain": [
       "bool"
      ]
     },
     "execution_count": 3,
     "metadata": {},
     "output_type": "execute_result"
    }
   ],
   "source": [
    "bool"
   ]
  },
  {
   "cell_type": "code",
   "execution_count": 4,
   "id": "e3c229ba",
   "metadata": {},
   "outputs": [
    {
     "data": {
      "text/plain": [
       "True"
      ]
     },
     "execution_count": 4,
     "metadata": {},
     "output_type": "execute_result"
    }
   ],
   "source": [
    "isinstance(3.14, float)"
   ]
  },
  {
   "cell_type": "code",
   "execution_count": 5,
   "id": "41746349",
   "metadata": {},
   "outputs": [
    {
     "data": {
      "text/plain": [
       "False"
      ]
     },
     "execution_count": 5,
     "metadata": {},
     "output_type": "execute_result"
    }
   ],
   "source": [
    "isinstance(\"Hello!\", bool)"
   ]
  },
  {
   "cell_type": "code",
   "execution_count": 7,
   "id": "390b25d3",
   "metadata": {},
   "outputs": [
    {
     "data": {
      "text/plain": [
       "True"
      ]
     },
     "execution_count": 7,
     "metadata": {},
     "output_type": "execute_result"
    }
   ],
   "source": [
    "import numpy\n",
    "a = numpy.array([1, 2, 3])\n",
    "isinstance(a, object)"
   ]
  },
  {
   "cell_type": "code",
   "execution_count": 8,
   "id": "eb630f31",
   "metadata": {},
   "outputs": [
    {
     "data": {
      "text/plain": [
       "True"
      ]
     },
     "execution_count": 8,
     "metadata": {},
     "output_type": "execute_result"
    }
   ],
   "source": [
    "isinstance([1, 2, 3], object)"
   ]
  },
  {
   "cell_type": "code",
   "execution_count": 9,
   "id": "1c63c019",
   "metadata": {},
   "outputs": [
    {
     "data": {
      "text/plain": [
       "True"
      ]
     },
     "execution_count": 9,
     "metadata": {},
     "output_type": "execute_result"
    }
   ],
   "source": [
    "isinstance(True, object)"
   ]
  },
  {
   "cell_type": "code",
   "execution_count": 10,
   "id": "36ea06c8",
   "metadata": {},
   "outputs": [
    {
     "data": {
      "text/plain": [
       "True"
      ]
     },
     "execution_count": 10,
     "metadata": {},
     "output_type": "execute_result"
    }
   ],
   "source": [
    "isinstance(\"Hello!\", object)"
   ]
  },
  {
   "cell_type": "code",
   "execution_count": 12,
   "id": "80e2e6de",
   "metadata": {},
   "outputs": [
    {
     "data": {
      "text/plain": [
       "True"
      ]
     },
     "execution_count": 12,
     "metadata": {},
     "output_type": "execute_result"
    }
   ],
   "source": [
    "import random\n",
    "isinstance(random, object)"
   ]
  },
  {
   "cell_type": "code",
   "execution_count": 13,
   "id": "6e8a1c7f",
   "metadata": {},
   "outputs": [
    {
     "data": {
      "text/plain": [
       "True"
      ]
     },
     "execution_count": 13,
     "metadata": {},
     "output_type": "execute_result"
    }
   ],
   "source": [
    "isinstance(print, object)"
   ]
  },
  {
   "cell_type": "code",
   "execution_count": 14,
   "id": "06328cfc",
   "metadata": {},
   "outputs": [
    {
     "data": {
      "text/plain": [
       "True"
      ]
     },
     "execution_count": 14,
     "metadata": {},
     "output_type": "execute_result"
    }
   ],
   "source": [
    "isinstance(int, object)"
   ]
  },
  {
   "cell_type": "code",
   "execution_count": 15,
   "id": "7f89f8dc",
   "metadata": {},
   "outputs": [],
   "source": [
    "z = 0.5 + 1.5j"
   ]
  },
  {
   "cell_type": "code",
   "execution_count": 21,
   "id": "41742aee",
   "metadata": {},
   "outputs": [
    {
     "data": {
      "text/plain": [
       "True"
      ]
     },
     "execution_count": 21,
     "metadata": {},
     "output_type": "execute_result"
    }
   ],
   "source": [
    "type(z) is complex"
   ]
  },
  {
   "cell_type": "code",
   "execution_count": 17,
   "id": "edc2ed25",
   "metadata": {},
   "outputs": [
    {
     "data": {
      "text/plain": [
       "True"
      ]
     },
     "execution_count": 17,
     "metadata": {},
     "output_type": "execute_result"
    }
   ],
   "source": [
    "isinstance(z, complex)"
   ]
  },
  {
   "cell_type": "code",
   "execution_count": 18,
   "id": "630cac35",
   "metadata": {},
   "outputs": [
    {
     "data": {
      "text/plain": [
       "True"
      ]
     },
     "execution_count": 18,
     "metadata": {},
     "output_type": "execute_result"
    }
   ],
   "source": [
    "isinstance(z, object)"
   ]
  },
  {
   "cell_type": "code",
   "execution_count": 22,
   "id": "c636a6b2",
   "metadata": {
    "scrolled": false
   },
   "outputs": [
    {
     "name": "stdout",
     "output_type": "stream",
     "text": [
      "Help on complex object:\n",
      "\n",
      "class complex(object)\n",
      " |  complex(real=0, imag=0)\n",
      " |  \n",
      " |  Create a complex number from a real part and an optional imaginary part.\n",
      " |  \n",
      " |  This is equivalent to (real + imag*1j) where imag defaults to 0.\n",
      " |  \n",
      " |  Methods defined here:\n",
      " |  \n",
      " |  __abs__(self, /)\n",
      " |      abs(self)\n",
      " |  \n",
      " |  __add__(self, value, /)\n",
      " |      Return self+value.\n",
      " |  \n",
      " |  __bool__(self, /)\n",
      " |      True if self else False\n",
      " |  \n",
      " |  __divmod__(self, value, /)\n",
      " |      Return divmod(self, value).\n",
      " |  \n",
      " |  __eq__(self, value, /)\n",
      " |      Return self==value.\n",
      " |  \n",
      " |  __float__(self, /)\n",
      " |      float(self)\n",
      " |  \n",
      " |  __floordiv__(self, value, /)\n",
      " |      Return self//value.\n",
      " |  \n",
      " |  __format__(...)\n",
      " |      complex.__format__() -> str\n",
      " |      \n",
      " |      Convert to a string according to format_spec.\n",
      " |  \n",
      " |  __ge__(self, value, /)\n",
      " |      Return self>=value.\n",
      " |  \n",
      " |  __getattribute__(self, name, /)\n",
      " |      Return getattr(self, name).\n",
      " |  \n",
      " |  __getnewargs__(...)\n",
      " |  \n",
      " |  __gt__(self, value, /)\n",
      " |      Return self>value.\n",
      " |  \n",
      " |  __hash__(self, /)\n",
      " |      Return hash(self).\n",
      " |  \n",
      " |  __int__(self, /)\n",
      " |      int(self)\n",
      " |  \n",
      " |  __le__(self, value, /)\n",
      " |      Return self<=value.\n",
      " |  \n",
      " |  __lt__(self, value, /)\n",
      " |      Return self<value.\n",
      " |  \n",
      " |  __mod__(self, value, /)\n",
      " |      Return self%value.\n",
      " |  \n",
      " |  __mul__(self, value, /)\n",
      " |      Return self*value.\n",
      " |  \n",
      " |  __ne__(self, value, /)\n",
      " |      Return self!=value.\n",
      " |  \n",
      " |  __neg__(self, /)\n",
      " |      -self\n",
      " |  \n",
      " |  __pos__(self, /)\n",
      " |      +self\n",
      " |  \n",
      " |  __pow__(self, value, mod=None, /)\n",
      " |      Return pow(self, value, mod).\n",
      " |  \n",
      " |  __radd__(self, value, /)\n",
      " |      Return value+self.\n",
      " |  \n",
      " |  __rdivmod__(self, value, /)\n",
      " |      Return divmod(value, self).\n",
      " |  \n",
      " |  __repr__(self, /)\n",
      " |      Return repr(self).\n",
      " |  \n",
      " |  __rfloordiv__(self, value, /)\n",
      " |      Return value//self.\n",
      " |  \n",
      " |  __rmod__(self, value, /)\n",
      " |      Return value%self.\n",
      " |  \n",
      " |  __rmul__(self, value, /)\n",
      " |      Return value*self.\n",
      " |  \n",
      " |  __rpow__(self, value, mod=None, /)\n",
      " |      Return pow(value, self, mod).\n",
      " |  \n",
      " |  __rsub__(self, value, /)\n",
      " |      Return value-self.\n",
      " |  \n",
      " |  __rtruediv__(self, value, /)\n",
      " |      Return value/self.\n",
      " |  \n",
      " |  __sub__(self, value, /)\n",
      " |      Return self-value.\n",
      " |  \n",
      " |  __truediv__(self, value, /)\n",
      " |      Return self/value.\n",
      " |  \n",
      " |  conjugate(...)\n",
      " |      complex.conjugate() -> complex\n",
      " |      \n",
      " |      Return the complex conjugate of its argument. (3-4j).conjugate() == 3+4j.\n",
      " |  \n",
      " |  ----------------------------------------------------------------------\n",
      " |  Static methods defined here:\n",
      " |  \n",
      " |  __new__(*args, **kwargs) from builtins.type\n",
      " |      Create and return a new object.  See help(type) for accurate signature.\n",
      " |  \n",
      " |  ----------------------------------------------------------------------\n",
      " |  Data descriptors defined here:\n",
      " |  \n",
      " |  imag\n",
      " |      the imaginary part of a complex number\n",
      " |  \n",
      " |  real\n",
      " |      the real part of a complex number\n",
      "\n"
     ]
    }
   ],
   "source": [
    "help(z)"
   ]
  },
  {
   "cell_type": "code",
   "execution_count": 24,
   "id": "d98a72ac",
   "metadata": {},
   "outputs": [
    {
     "data": {
      "text/plain": [
       "['conjugate', 'imag', 'real']"
      ]
     },
     "execution_count": 24,
     "metadata": {},
     "output_type": "execute_result"
    }
   ],
   "source": [
    "[name for name in dir(z) if not name.startswith(\"__\")]"
   ]
  },
  {
   "cell_type": "code",
   "execution_count": 25,
   "id": "bc3c40d0",
   "metadata": {},
   "outputs": [
    {
     "data": {
      "text/plain": [
       "0.5"
      ]
     },
     "execution_count": 25,
     "metadata": {},
     "output_type": "execute_result"
    }
   ],
   "source": [
    "z.real"
   ]
  },
  {
   "cell_type": "code",
   "execution_count": 26,
   "id": "c42569fc",
   "metadata": {},
   "outputs": [
    {
     "data": {
      "text/plain": [
       "1.5"
      ]
     },
     "execution_count": 26,
     "metadata": {},
     "output_type": "execute_result"
    }
   ],
   "source": [
    "z.imag"
   ]
  },
  {
   "cell_type": "code",
   "execution_count": 27,
   "id": "081566b2",
   "metadata": {},
   "outputs": [
    {
     "ename": "AttributeError",
     "evalue": "readonly attribute",
     "output_type": "error",
     "traceback": [
      "\u001b[0;31m---------------------------------------------------------------------------\u001b[0m",
      "\u001b[0;31mAttributeError\u001b[0m                            Traceback (most recent call last)",
      "Input \u001b[0;32mIn [27]\u001b[0m, in \u001b[0;36m<cell line: 1>\u001b[0;34m()\u001b[0m\n\u001b[0;32m----> 1\u001b[0m z\u001b[38;5;241m.\u001b[39mreal \u001b[38;5;241m=\u001b[39m \u001b[38;5;241m8.0\u001b[39m\n",
      "\u001b[0;31mAttributeError\u001b[0m: readonly attribute"
     ]
    }
   ],
   "source": [
    "z.real = 8.0"
   ]
  },
  {
   "cell_type": "code",
   "execution_count": 28,
   "id": "694cc2c5",
   "metadata": {},
   "outputs": [
    {
     "data": {
      "text/plain": [
       "<function complex.conjugate>"
      ]
     },
     "execution_count": 28,
     "metadata": {},
     "output_type": "execute_result"
    }
   ],
   "source": [
    "z.conjugate"
   ]
  },
  {
   "cell_type": "code",
   "execution_count": 29,
   "id": "f4c56191",
   "metadata": {},
   "outputs": [
    {
     "data": {
      "text/plain": [
       "(0.5-1.5j)"
      ]
     },
     "execution_count": 29,
     "metadata": {},
     "output_type": "execute_result"
    }
   ],
   "source": [
    "z.conjugate()"
   ]
  },
  {
   "cell_type": "code",
   "execution_count": 30,
   "id": "e40cff9f",
   "metadata": {},
   "outputs": [
    {
     "data": {
      "text/plain": [
       "(0.5-1.5j)"
      ]
     },
     "execution_count": 30,
     "metadata": {},
     "output_type": "execute_result"
    }
   ],
   "source": [
    "complex.conjugate(z)"
   ]
  },
  {
   "cell_type": "code",
   "execution_count": 31,
   "id": "d9933c18",
   "metadata": {},
   "outputs": [
    {
     "data": {
      "text/plain": [
       "['__abs__',\n",
       " '__add__',\n",
       " '__bool__',\n",
       " '__class__',\n",
       " '__delattr__',\n",
       " '__dir__',\n",
       " '__divmod__',\n",
       " '__doc__',\n",
       " '__eq__',\n",
       " '__float__',\n",
       " '__floordiv__',\n",
       " '__format__',\n",
       " '__ge__',\n",
       " '__getattribute__',\n",
       " '__getnewargs__',\n",
       " '__gt__',\n",
       " '__hash__',\n",
       " '__init__',\n",
       " '__init_subclass__',\n",
       " '__int__',\n",
       " '__le__',\n",
       " '__lt__',\n",
       " '__mod__',\n",
       " '__mul__',\n",
       " '__ne__',\n",
       " '__neg__',\n",
       " '__new__',\n",
       " '__pos__',\n",
       " '__pow__',\n",
       " '__radd__',\n",
       " '__rdivmod__',\n",
       " '__reduce__',\n",
       " '__reduce_ex__',\n",
       " '__repr__',\n",
       " '__rfloordiv__',\n",
       " '__rmod__',\n",
       " '__rmul__',\n",
       " '__rpow__',\n",
       " '__rsub__',\n",
       " '__rtruediv__',\n",
       " '__setattr__',\n",
       " '__sizeof__',\n",
       " '__str__',\n",
       " '__sub__',\n",
       " '__subclasshook__',\n",
       " '__truediv__',\n",
       " 'conjugate',\n",
       " 'imag',\n",
       " 'real']"
      ]
     },
     "execution_count": 31,
     "metadata": {},
     "output_type": "execute_result"
    }
   ],
   "source": [
    "dir(z)"
   ]
  },
  {
   "cell_type": "code",
   "execution_count": 32,
   "id": "c669bd0c",
   "metadata": {},
   "outputs": [],
   "source": [
    "w = z.conjugate()"
   ]
  },
  {
   "cell_type": "code",
   "execution_count": 33,
   "id": "df128490",
   "metadata": {},
   "outputs": [
    {
     "data": {
      "text/plain": [
       "(1+0j)"
      ]
     },
     "execution_count": 33,
     "metadata": {},
     "output_type": "execute_result"
    }
   ],
   "source": [
    "complex.__add__(z, w)"
   ]
  },
  {
   "cell_type": "code",
   "execution_count": 34,
   "id": "320ddc04",
   "metadata": {},
   "outputs": [
    {
     "data": {
      "text/plain": [
       "(1+0j)"
      ]
     },
     "execution_count": 34,
     "metadata": {},
     "output_type": "execute_result"
    }
   ],
   "source": [
    "z.__add__(w)"
   ]
  },
  {
   "cell_type": "code",
   "execution_count": 35,
   "id": "c57bd812",
   "metadata": {},
   "outputs": [
    {
     "data": {
      "text/plain": [
       "(1+0j)"
      ]
     },
     "execution_count": 35,
     "metadata": {},
     "output_type": "execute_result"
    }
   ],
   "source": [
    "z + w"
   ]
  },
  {
   "cell_type": "code",
   "execution_count": 36,
   "id": "e59e7592",
   "metadata": {},
   "outputs": [
    {
     "data": {
      "text/plain": [
       "'Create a complex number from a real part and an optional imaginary part.\\n\\nThis is equivalent to (real + imag*1j) where imag defaults to 0.'"
      ]
     },
     "execution_count": 36,
     "metadata": {},
     "output_type": "execute_result"
    }
   ],
   "source": [
    "z.__doc__"
   ]
  },
  {
   "cell_type": "code",
   "execution_count": 37,
   "id": "c50ebafe",
   "metadata": {},
   "outputs": [
    {
     "name": "stdout",
     "output_type": "stream",
     "text": [
      "Help on complex object:\n",
      "\n",
      "class complex(object)\n",
      " |  complex(real=0, imag=0)\n",
      " |  \n",
      " |  Create a complex number from a real part and an optional imaginary part.\n",
      " |  \n",
      " |  This is equivalent to (real + imag*1j) where imag defaults to 0.\n",
      " |  \n",
      " |  Methods defined here:\n",
      " |  \n",
      " |  __abs__(self, /)\n",
      " |      abs(self)\n",
      " |  \n",
      " |  __add__(self, value, /)\n",
      " |      Return self+value.\n",
      " |  \n",
      " |  __bool__(self, /)\n",
      " |      True if self else False\n",
      " |  \n",
      " |  __divmod__(self, value, /)\n",
      " |      Return divmod(self, value).\n",
      " |  \n",
      " |  __eq__(self, value, /)\n",
      " |      Return self==value.\n",
      " |  \n",
      " |  __float__(self, /)\n",
      " |      float(self)\n",
      " |  \n",
      " |  __floordiv__(self, value, /)\n",
      " |      Return self//value.\n",
      " |  \n",
      " |  __format__(...)\n",
      " |      complex.__format__() -> str\n",
      " |      \n",
      " |      Convert to a string according to format_spec.\n",
      " |  \n",
      " |  __ge__(self, value, /)\n",
      " |      Return self>=value.\n",
      " |  \n",
      " |  __getattribute__(self, name, /)\n",
      " |      Return getattr(self, name).\n",
      " |  \n",
      " |  __getnewargs__(...)\n",
      " |  \n",
      " |  __gt__(self, value, /)\n",
      " |      Return self>value.\n",
      " |  \n",
      " |  __hash__(self, /)\n",
      " |      Return hash(self).\n",
      " |  \n",
      " |  __int__(self, /)\n",
      " |      int(self)\n",
      " |  \n",
      " |  __le__(self, value, /)\n",
      " |      Return self<=value.\n",
      " |  \n",
      " |  __lt__(self, value, /)\n",
      " |      Return self<value.\n",
      " |  \n",
      " |  __mod__(self, value, /)\n",
      " |      Return self%value.\n",
      " |  \n",
      " |  __mul__(self, value, /)\n",
      " |      Return self*value.\n",
      " |  \n",
      " |  __ne__(self, value, /)\n",
      " |      Return self!=value.\n",
      " |  \n",
      " |  __neg__(self, /)\n",
      " |      -self\n",
      " |  \n",
      " |  __pos__(self, /)\n",
      " |      +self\n",
      " |  \n",
      " |  __pow__(self, value, mod=None, /)\n",
      " |      Return pow(self, value, mod).\n",
      " |  \n",
      " |  __radd__(self, value, /)\n",
      " |      Return value+self.\n",
      " |  \n",
      " |  __rdivmod__(self, value, /)\n",
      " |      Return divmod(value, self).\n",
      " |  \n",
      " |  __repr__(self, /)\n",
      " |      Return repr(self).\n",
      " |  \n",
      " |  __rfloordiv__(self, value, /)\n",
      " |      Return value//self.\n",
      " |  \n",
      " |  __rmod__(self, value, /)\n",
      " |      Return value%self.\n",
      " |  \n",
      " |  __rmul__(self, value, /)\n",
      " |      Return value*self.\n",
      " |  \n",
      " |  __rpow__(self, value, mod=None, /)\n",
      " |      Return pow(value, self, mod).\n",
      " |  \n",
      " |  __rsub__(self, value, /)\n",
      " |      Return value-self.\n",
      " |  \n",
      " |  __rtruediv__(self, value, /)\n",
      " |      Return value/self.\n",
      " |  \n",
      " |  __sub__(self, value, /)\n",
      " |      Return self-value.\n",
      " |  \n",
      " |  __truediv__(self, value, /)\n",
      " |      Return self/value.\n",
      " |  \n",
      " |  conjugate(...)\n",
      " |      complex.conjugate() -> complex\n",
      " |      \n",
      " |      Return the complex conjugate of its argument. (3-4j).conjugate() == 3+4j.\n",
      " |  \n",
      " |  ----------------------------------------------------------------------\n",
      " |  Static methods defined here:\n",
      " |  \n",
      " |  __new__(*args, **kwargs) from builtins.type\n",
      " |      Create and return a new object.  See help(type) for accurate signature.\n",
      " |  \n",
      " |  ----------------------------------------------------------------------\n",
      " |  Data descriptors defined here:\n",
      " |  \n",
      " |  imag\n",
      " |      the imaginary part of a complex number\n",
      " |  \n",
      " |  real\n",
      " |      the real part of a complex number\n",
      "\n"
     ]
    }
   ],
   "source": [
    "help(z)"
   ]
  },
  {
   "cell_type": "code",
   "execution_count": 38,
   "id": "96e561ad",
   "metadata": {},
   "outputs": [],
   "source": [
    "class Complex:\n",
    "    pass"
   ]
  },
  {
   "cell_type": "code",
   "execution_count": 39,
   "id": "51ab922c",
   "metadata": {},
   "outputs": [
    {
     "data": {
      "text/plain": [
       "__main__.Complex"
      ]
     },
     "execution_count": 39,
     "metadata": {},
     "output_type": "execute_result"
    }
   ],
   "source": [
    "Complex"
   ]
  },
  {
   "cell_type": "code",
   "execution_count": 40,
   "id": "8e7888ae",
   "metadata": {},
   "outputs": [
    {
     "data": {
      "text/plain": [
       "<__main__.Complex at 0x7efe02b3ec70>"
      ]
     },
     "execution_count": 40,
     "metadata": {},
     "output_type": "execute_result"
    }
   ],
   "source": [
    "Complex()"
   ]
  },
  {
   "cell_type": "code",
   "execution_count": 44,
   "id": "787cc4e3",
   "metadata": {},
   "outputs": [
    {
     "data": {
      "text/plain": [
       "True"
      ]
     },
     "execution_count": 44,
     "metadata": {},
     "output_type": "execute_result"
    }
   ],
   "source": [
    "c = Complex()\n",
    "isinstance(c, Complex)"
   ]
  },
  {
   "cell_type": "code",
   "execution_count": 45,
   "id": "2104023b",
   "metadata": {},
   "outputs": [],
   "source": [
    "c.real = 1.5"
   ]
  },
  {
   "cell_type": "code",
   "execution_count": 46,
   "id": "a0434d08",
   "metadata": {},
   "outputs": [],
   "source": [
    "c.imag = 0.5"
   ]
  },
  {
   "cell_type": "code",
   "execution_count": 47,
   "id": "3e65c69d",
   "metadata": {},
   "outputs": [
    {
     "data": {
      "text/plain": [
       "(1.5, 0.5)"
      ]
     },
     "execution_count": 47,
     "metadata": {},
     "output_type": "execute_result"
    }
   ],
   "source": [
    "c.real, c.imag"
   ]
  },
  {
   "cell_type": "code",
   "execution_count": 48,
   "id": "c02bd113",
   "metadata": {},
   "outputs": [],
   "source": [
    "def complex_init(c, real, imag):\n",
    "    c.real = real\n",
    "    c.imag = imag"
   ]
  },
  {
   "cell_type": "code",
   "execution_count": 49,
   "id": "19bdce0e",
   "metadata": {},
   "outputs": [],
   "source": [
    "c = Complex()\n",
    "complex_init(c, 1.5, 0.5)"
   ]
  },
  {
   "cell_type": "code",
   "execution_count": 50,
   "id": "3a7d516d",
   "metadata": {},
   "outputs": [
    {
     "data": {
      "text/plain": [
       "(1.5, 0.5)"
      ]
     },
     "execution_count": 50,
     "metadata": {},
     "output_type": "execute_result"
    }
   ],
   "source": [
    "c.real, c.imag"
   ]
  },
  {
   "cell_type": "code",
   "execution_count": 59,
   "id": "0e28f317",
   "metadata": {},
   "outputs": [],
   "source": [
    "class Complex:\n",
    "    def __init__(self, real, imag):\n",
    "        self.real = real\n",
    "        self.imag = imag"
   ]
  },
  {
   "cell_type": "code",
   "execution_count": 60,
   "id": "65591153",
   "metadata": {},
   "outputs": [
    {
     "data": {
      "text/plain": [
       "(1.5, 0.5)"
      ]
     },
     "execution_count": 60,
     "metadata": {},
     "output_type": "execute_result"
    }
   ],
   "source": [
    "c = Complex(1.5, 0.5)\n",
    "c.real, c.imag"
   ]
  },
  {
   "cell_type": "code",
   "execution_count": 61,
   "id": "10e675ba",
   "metadata": {},
   "outputs": [
    {
     "data": {
      "text/plain": [
       "(1.5+0.5j)"
      ]
     },
     "execution_count": 61,
     "metadata": {},
     "output_type": "execute_result"
    }
   ],
   "source": [
    "1.5+0.5j"
   ]
  },
  {
   "cell_type": "code",
   "execution_count": 54,
   "id": "9fc1aa10",
   "metadata": {},
   "outputs": [
    {
     "data": {
      "text/plain": [
       "(1.5+0.5j)"
      ]
     },
     "execution_count": 54,
     "metadata": {},
     "output_type": "execute_result"
    }
   ],
   "source": [
    "complex(1.5, 0.5)"
   ]
  },
  {
   "cell_type": "code",
   "execution_count": 63,
   "id": "74540a45",
   "metadata": {},
   "outputs": [],
   "source": [
    "def complex_conjugate(z):\n",
    "    return Complex(z.real, -z.imag)"
   ]
  },
  {
   "cell_type": "code",
   "execution_count": 75,
   "id": "a2fc2e2a",
   "metadata": {},
   "outputs": [],
   "source": [
    "z = Complex(1.5, 0.5)\n",
    "w = complex_conjugate(z)"
   ]
  },
  {
   "cell_type": "code",
   "execution_count": 76,
   "id": "1c6169ec",
   "metadata": {},
   "outputs": [
    {
     "data": {
      "text/plain": [
       "(1.5, -0.5)"
      ]
     },
     "execution_count": 76,
     "metadata": {},
     "output_type": "execute_result"
    }
   ],
   "source": [
    "w.real, w.imag"
   ]
  },
  {
   "cell_type": "code",
   "execution_count": 77,
   "id": "eacc30dc",
   "metadata": {},
   "outputs": [],
   "source": [
    "class Complex:\n",
    "    def __init__(self, real, imag):\n",
    "        self.real = real\n",
    "        self.imag = imag\n",
    "    def conjugate(self):\n",
    "        return Complex(self.real, -self.imag)"
   ]
  },
  {
   "cell_type": "code",
   "execution_count": 78,
   "id": "121f6b1d",
   "metadata": {},
   "outputs": [
    {
     "data": {
      "text/plain": [
       "(1.5, -0.5)"
      ]
     },
     "execution_count": 78,
     "metadata": {},
     "output_type": "execute_result"
    }
   ],
   "source": [
    "w = z.conjugate()\n",
    "w.real, w.imag"
   ]
  },
  {
   "cell_type": "code",
   "execution_count": 82,
   "id": "59366495",
   "metadata": {},
   "outputs": [],
   "source": [
    "class Complex:\n",
    "    def __init__(self, real, imag):\n",
    "        self.real = real\n",
    "        self.imag = imag\n",
    "    def conjugate(self):\n",
    "        return Complex(self.real, -self.imag)\n",
    "    def __add__(self, other):\n",
    "        return Complex(self.real + other.real, self.imag + other.imag)"
   ]
  },
  {
   "cell_type": "code",
   "execution_count": 84,
   "id": "92e1cbe6",
   "metadata": {},
   "outputs": [],
   "source": [
    "z = Complex(1.5, 0.5)\n",
    "w = z.conjugate()\n",
    "u = w + z"
   ]
  },
  {
   "cell_type": "code",
   "execution_count": 85,
   "id": "0af0e072",
   "metadata": {},
   "outputs": [
    {
     "data": {
      "text/plain": [
       "(3.0, 0.0)"
      ]
     },
     "execution_count": 85,
     "metadata": {},
     "output_type": "execute_result"
    }
   ],
   "source": [
    "u.real, u.imag"
   ]
  },
  {
   "cell_type": "code",
   "execution_count": 86,
   "id": "a6cb7f68",
   "metadata": {},
   "outputs": [
    {
     "data": {
      "text/plain": [
       "<__main__.Complex at 0x7efe036c3c70>"
      ]
     },
     "execution_count": 86,
     "metadata": {},
     "output_type": "execute_result"
    }
   ],
   "source": [
    "u"
   ]
  },
  {
   "cell_type": "code",
   "execution_count": 87,
   "id": "1e553335",
   "metadata": {},
   "outputs": [
    {
     "data": {
      "text/plain": [
       "(1.5+0.5j)"
      ]
     },
     "execution_count": 87,
     "metadata": {},
     "output_type": "execute_result"
    }
   ],
   "source": [
    "complex(1.5, 0.5)"
   ]
  },
  {
   "cell_type": "code",
   "execution_count": 88,
   "id": "6f47178d",
   "metadata": {},
   "outputs": [],
   "source": [
    "class Complex:\n",
    "    def __init__(self, real, imag):\n",
    "        self.real = real\n",
    "        self.imag = imag\n",
    "    def conjugate(self):\n",
    "        return Complex(self.real, -self.imag)\n",
    "    def __add__(self, other):\n",
    "        return Complex(self.real + other.real, self.imag + other.imag)\n",
    "    def __repr__(self):\n",
    "        return f\"({self.real}+{self.imag}j)\"\n",
    "    "
   ]
  },
  {
   "cell_type": "code",
   "execution_count": 91,
   "id": "8a6e2e0f",
   "metadata": {},
   "outputs": [
    {
     "data": {
      "text/plain": [
       "'Hello Sébastien'"
      ]
     },
     "execution_count": 91,
     "metadata": {},
     "output_type": "execute_result"
    }
   ],
   "source": [
    "name = \"Sébastien\"\n",
    "f\"Hello {name}\""
   ]
  },
  {
   "cell_type": "code",
   "execution_count": 92,
   "id": "154f8c07",
   "metadata": {},
   "outputs": [
    {
     "data": {
      "text/plain": [
       "(1.5+0.5j)"
      ]
     },
     "execution_count": 92,
     "metadata": {},
     "output_type": "execute_result"
    }
   ],
   "source": [
    "z = Complex(1.5, 0.5)\n",
    "z"
   ]
  },
  {
   "cell_type": "code",
   "execution_count": 93,
   "id": "64ca3c0d",
   "metadata": {},
   "outputs": [
    {
     "data": {
      "text/plain": [
       "(1.5+-0.5j)"
      ]
     },
     "execution_count": 93,
     "metadata": {},
     "output_type": "execute_result"
    }
   ],
   "source": [
    "z = Complex(1.5, -0.5)\n",
    "z"
   ]
  },
  {
   "cell_type": "code",
   "execution_count": 94,
   "id": "74beeb30",
   "metadata": {},
   "outputs": [
    {
     "data": {
      "text/plain": [
       "(1.5-0.5j)"
      ]
     },
     "execution_count": 94,
     "metadata": {},
     "output_type": "execute_result"
    }
   ],
   "source": [
    "eval(\"(1.5+-0.5j)\")"
   ]
  },
  {
   "cell_type": "code",
   "execution_count": 95,
   "id": "5dd18dae",
   "metadata": {},
   "outputs": [
    {
     "data": {
      "text/plain": [
       "(Hello!+Truej)"
      ]
     },
     "execution_count": 95,
     "metadata": {},
     "output_type": "execute_result"
    }
   ],
   "source": [
    "Complex(\"Hello!\", True)"
   ]
  },
  {
   "cell_type": "code",
   "execution_count": 96,
   "id": "35f5115f",
   "metadata": {},
   "outputs": [],
   "source": [
    "class Complex:\n",
    "    def __init__(self, real, imag):\n",
    "        if not (isinstance(real, float) and isinstance(imag, float)):\n",
    "            error = f\"{real!r} and/or {imag!r} are not floats\"\n",
    "            raise TypeError(error)\n",
    "        else:\n",
    "            self.real = real\n",
    "            self.imag = imag\n",
    "    def conjugate(self):\n",
    "        return Complex(self.real, -self.imag)\n",
    "    def __add__(self, other):\n",
    "        return Complex(self.real + other.real, self.imag + other.imag)\n",
    "    def __repr__(self):\n",
    "        return f\"({self.real}+{self.imag}j)\""
   ]
  },
  {
   "cell_type": "code",
   "execution_count": 97,
   "id": "8ad8de6f",
   "metadata": {},
   "outputs": [
    {
     "ename": "TypeError",
     "evalue": "'Hello!' and/or True are not floats",
     "output_type": "error",
     "traceback": [
      "\u001b[0;31m---------------------------------------------------------------------------\u001b[0m",
      "\u001b[0;31mTypeError\u001b[0m                                 Traceback (most recent call last)",
      "Input \u001b[0;32mIn [97]\u001b[0m, in \u001b[0;36m<cell line: 1>\u001b[0;34m()\u001b[0m\n\u001b[0;32m----> 1\u001b[0m \u001b[43mComplex\u001b[49m\u001b[43m(\u001b[49m\u001b[38;5;124;43m\"\u001b[39;49m\u001b[38;5;124;43mHello!\u001b[39;49m\u001b[38;5;124;43m\"\u001b[39;49m\u001b[43m,\u001b[49m\u001b[43m \u001b[49m\u001b[38;5;28;43;01mTrue\u001b[39;49;00m\u001b[43m)\u001b[49m\n",
      "Input \u001b[0;32mIn [96]\u001b[0m, in \u001b[0;36mComplex.__init__\u001b[0;34m(self, real, imag)\u001b[0m\n\u001b[1;32m      3\u001b[0m \u001b[38;5;28;01mif\u001b[39;00m \u001b[38;5;129;01mnot\u001b[39;00m (\u001b[38;5;28misinstance\u001b[39m(real, \u001b[38;5;28mfloat\u001b[39m) \u001b[38;5;129;01mand\u001b[39;00m \u001b[38;5;28misinstance\u001b[39m(imag, \u001b[38;5;28mfloat\u001b[39m)):\n\u001b[1;32m      4\u001b[0m     error \u001b[38;5;241m=\u001b[39m \u001b[38;5;124mf\u001b[39m\u001b[38;5;124m\"\u001b[39m\u001b[38;5;132;01m{\u001b[39;00mreal\u001b[38;5;132;01m!r}\u001b[39;00m\u001b[38;5;124m and/or \u001b[39m\u001b[38;5;132;01m{\u001b[39;00mimag\u001b[38;5;132;01m!r}\u001b[39;00m\u001b[38;5;124m are not floats\u001b[39m\u001b[38;5;124m\"\u001b[39m\n\u001b[0;32m----> 5\u001b[0m     \u001b[38;5;28;01mraise\u001b[39;00m \u001b[38;5;167;01mTypeError\u001b[39;00m(error)\n\u001b[1;32m      6\u001b[0m \u001b[38;5;28;01melse\u001b[39;00m:\n\u001b[1;32m      7\u001b[0m     \u001b[38;5;28mself\u001b[39m\u001b[38;5;241m.\u001b[39mreal \u001b[38;5;241m=\u001b[39m real\n",
      "\u001b[0;31mTypeError\u001b[0m: 'Hello!' and/or True are not floats"
     ]
    }
   ],
   "source": [
    "Complex(\"Hello!\", True)"
   ]
  },
  {
   "cell_type": "code",
   "execution_count": 98,
   "id": "5de672e3",
   "metadata": {},
   "outputs": [],
   "source": [
    "z = Complex(1.5, 0.5)"
   ]
  },
  {
   "cell_type": "code",
   "execution_count": 99,
   "id": "664d3034",
   "metadata": {},
   "outputs": [
    {
     "data": {
      "text/plain": [
       "(Hello!+0.5j)"
      ]
     },
     "execution_count": 99,
     "metadata": {},
     "output_type": "execute_result"
    }
   ],
   "source": [
    "z.real = \"Hello!\"\n",
    "z"
   ]
  },
  {
   "cell_type": "code",
   "execution_count": 105,
   "id": "78304e74",
   "metadata": {},
   "outputs": [],
   "source": [
    "class Complex:\n",
    "    def __init__(self, real, imag):\n",
    "        if not (isinstance(real, float) and isinstance(imag, float)):\n",
    "            error = f\"{real!r} and/or {imag!r} are not floats\"\n",
    "            raise TypeError(error)\n",
    "        else:\n",
    "            self._real = real\n",
    "            self._imag = imag\n",
    "    def get_real(self):\n",
    "        return self._real\n",
    "    def get_imag(self):\n",
    "        return self._imag\n",
    "    def conjugate(self):\n",
    "        return Complex(self._real, -self._imag)\n",
    "    def __add__(self, other):\n",
    "        return Complex(self._real + other._real, self._imag + other._imag)\n",
    "    def __repr__(self):\n",
    "        return f\"({self._real}+{self._imag}j)\""
   ]
  },
  {
   "cell_type": "code",
   "execution_count": 106,
   "id": "3266a468",
   "metadata": {},
   "outputs": [
    {
     "data": {
      "text/plain": [
       "(Toto!+0.5j)"
      ]
     },
     "execution_count": 106,
     "metadata": {},
     "output_type": "execute_result"
    }
   ],
   "source": [
    "z = Complex(1.5, 0.5)\n",
    "z._real= \"Toto!\"\n",
    "z"
   ]
  },
  {
   "cell_type": "code",
   "execution_count": 107,
   "id": "1358b058",
   "metadata": {},
   "outputs": [
    {
     "data": {
      "text/plain": [
       "1.5"
      ]
     },
     "execution_count": 107,
     "metadata": {},
     "output_type": "execute_result"
    }
   ],
   "source": [
    "z = Complex(1.5, 0.5)\n",
    "z.get_real()"
   ]
  },
  {
   "cell_type": "code",
   "execution_count": 115,
   "id": "b0be0591",
   "metadata": {},
   "outputs": [],
   "source": [
    "class Complex:\n",
    "    def __init__(self, real, imag):\n",
    "        if not (isinstance(real, float) and isinstance(imag, float)):\n",
    "            error = f\"{real!r} and/or {imag!r} are not floats\"\n",
    "            raise TypeError(error)\n",
    "        else:\n",
    "            self._real = real\n",
    "            self._imag = imag\n",
    "    def get_real(self):\n",
    "        #raise RuntimeError(\"not a chance!\")\n",
    "        return self._real\n",
    "    def set_real(self, value):\n",
    "        self._real = value\n",
    "    real = property(get_real, set_real)\n",
    "    def get_imag(self):\n",
    "        return self._imag\n",
    "    imag = property(get_imag)\n",
    "    def conjugate(self):\n",
    "        return Complex(self._real, -self._imag)\n",
    "    def __add__(self, other):\n",
    "        return Complex(self._real + other._real, self._imag + other._imag)\n",
    "    def __repr__(self):\n",
    "        return f\"({self._real}+{self._imag}j)\""
   ]
  },
  {
   "cell_type": "code",
   "execution_count": 116,
   "id": "7c220da3",
   "metadata": {},
   "outputs": [
    {
     "data": {
      "text/plain": [
       "0.5"
      ]
     },
     "execution_count": 116,
     "metadata": {},
     "output_type": "execute_result"
    }
   ],
   "source": [
    "z = Complex(0.5, 1.5)\n",
    "z.real"
   ]
  },
  {
   "cell_type": "code",
   "execution_count": 117,
   "id": "e1df62eb",
   "metadata": {},
   "outputs": [],
   "source": [
    "z.real = 0.9"
   ]
  },
  {
   "cell_type": "code",
   "execution_count": 118,
   "id": "0a97ee00",
   "metadata": {},
   "outputs": [
    {
     "data": {
      "text/plain": [
       "(0.9+1.5j)"
      ]
     },
     "execution_count": 118,
     "metadata": {},
     "output_type": "execute_result"
    }
   ],
   "source": [
    "z"
   ]
  },
  {
   "cell_type": "code",
   "execution_count": null,
   "id": "e55c451d",
   "metadata": {},
   "outputs": [],
   "source": []
  }
 ],
 "metadata": {
  "kernelspec": {
   "display_name": "Python 3 (ipykernel)",
   "language": "python",
   "name": "python3"
  },
  "language_info": {
   "codemirror_mode": {
    "name": "ipython",
    "version": 3
   },
   "file_extension": ".py",
   "mimetype": "text/x-python",
   "name": "python",
   "nbconvert_exporter": "python",
   "pygments_lexer": "ipython3",
   "version": "3.9.12"
  }
 },
 "nbformat": 4,
 "nbformat_minor": 5
}
