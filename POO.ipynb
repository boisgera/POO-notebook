{
 "cells": [
  {
   "cell_type": "code",
   "execution_count": 1,
   "id": "e43573ae",
   "metadata": {},
   "outputs": [
    {
     "data": {
      "text/plain": [
       "object"
      ]
     },
     "execution_count": 1,
     "metadata": {},
     "output_type": "execute_result"
    }
   ],
   "source": [
    "object"
   ]
  },
  {
   "cell_type": "code",
   "execution_count": 2,
   "id": "ac941602",
   "metadata": {},
   "outputs": [
    {
     "data": {
      "text/plain": [
       "int"
      ]
     },
     "execution_count": 2,
     "metadata": {},
     "output_type": "execute_result"
    }
   ],
   "source": [
    "int"
   ]
  },
  {
   "cell_type": "code",
   "execution_count": 3,
   "id": "7185f9e1",
   "metadata": {},
   "outputs": [
    {
     "data": {
      "text/plain": [
       "bool"
      ]
     },
     "execution_count": 3,
     "metadata": {},
     "output_type": "execute_result"
    }
   ],
   "source": [
    "bool"
   ]
  },
  {
   "cell_type": "code",
   "execution_count": 4,
   "id": "0e4474f7",
   "metadata": {},
   "outputs": [
    {
     "data": {
      "text/plain": [
       "True"
      ]
     },
     "execution_count": 4,
     "metadata": {},
     "output_type": "execute_result"
    }
   ],
   "source": [
    "isinstance(3.14, float)"
   ]
  },
  {
   "cell_type": "code",
   "execution_count": 5,
   "id": "acff0a6b",
   "metadata": {},
   "outputs": [
    {
     "data": {
      "text/plain": [
       "False"
      ]
     },
     "execution_count": 5,
     "metadata": {},
     "output_type": "execute_result"
    }
   ],
   "source": [
    "isinstance(\"Hello!\", bool)"
   ]
  },
  {
   "cell_type": "code",
   "execution_count": 7,
   "id": "fca32901",
   "metadata": {},
   "outputs": [
    {
     "data": {
      "text/plain": [
       "True"
      ]
     },
     "execution_count": 7,
     "metadata": {},
     "output_type": "execute_result"
    }
   ],
   "source": [
    "import numpy\n",
    "a = numpy.array([1, 2, 3])\n",
    "isinstance(a, object)"
   ]
  },
  {
   "cell_type": "code",
   "execution_count": 8,
   "id": "f3f230ad",
   "metadata": {},
   "outputs": [
    {
     "data": {
      "text/plain": [
       "True"
      ]
     },
     "execution_count": 8,
     "metadata": {},
     "output_type": "execute_result"
    }
   ],
   "source": [
    "isinstance([1, 2, 3], object)"
   ]
  },
  {
   "cell_type": "code",
   "execution_count": 9,
   "id": "a4528332",
   "metadata": {},
   "outputs": [
    {
     "data": {
      "text/plain": [
       "True"
      ]
     },
     "execution_count": 9,
     "metadata": {},
     "output_type": "execute_result"
    }
   ],
   "source": [
    "isinstance(True, object)"
   ]
  },
  {
   "cell_type": "code",
   "execution_count": 10,
   "id": "39aaf41b",
   "metadata": {},
   "outputs": [
    {
     "data": {
      "text/plain": [
       "True"
      ]
     },
     "execution_count": 10,
     "metadata": {},
     "output_type": "execute_result"
    }
   ],
   "source": [
    "isinstance(\"Hello!\", object)"
   ]
  },
  {
   "cell_type": "code",
   "execution_count": 12,
   "id": "940e2efb",
   "metadata": {},
   "outputs": [
    {
     "data": {
      "text/plain": [
       "True"
      ]
     },
     "execution_count": 12,
     "metadata": {},
     "output_type": "execute_result"
    }
   ],
   "source": [
    "import random\n",
    "isinstance(random, object)"
   ]
  },
  {
   "cell_type": "code",
   "execution_count": 13,
   "id": "9cf34d6a",
   "metadata": {},
   "outputs": [
    {
     "data": {
      "text/plain": [
       "True"
      ]
     },
     "execution_count": 13,
     "metadata": {},
     "output_type": "execute_result"
    }
   ],
   "source": [
    "isinstance(print, object)"
   ]
  },
  {
   "cell_type": "code",
   "execution_count": 14,
   "id": "2739c6a7",
   "metadata": {},
   "outputs": [
    {
     "data": {
      "text/plain": [
       "True"
      ]
     },
     "execution_count": 14,
     "metadata": {},
     "output_type": "execute_result"
    }
   ],
   "source": [
    "isinstance(int, object)"
   ]
  },
  {
   "cell_type": "code",
   "execution_count": 15,
   "id": "75e5476f",
   "metadata": {},
   "outputs": [],
   "source": [
    "z = 0.5 + 1.5j"
   ]
  },
  {
   "cell_type": "code",
   "execution_count": 21,
   "id": "660a2507",
   "metadata": {},
   "outputs": [
    {
     "data": {
      "text/plain": [
       "True"
      ]
     },
     "execution_count": 21,
     "metadata": {},
     "output_type": "execute_result"
    }
   ],
   "source": [
    "type(z) is complex"
   ]
  },
  {
   "cell_type": "code",
   "execution_count": 17,
   "id": "b191f1ba",
   "metadata": {},
   "outputs": [
    {
     "data": {
      "text/plain": [
       "True"
      ]
     },
     "execution_count": 17,
     "metadata": {},
     "output_type": "execute_result"
    }
   ],
   "source": [
    "isinstance(z, complex)"
   ]
  },
  {
   "cell_type": "code",
   "execution_count": 18,
   "id": "8e972ac4",
   "metadata": {},
   "outputs": [
    {
     "data": {
      "text/plain": [
       "True"
      ]
     },
     "execution_count": 18,
     "metadata": {},
     "output_type": "execute_result"
    }
   ],
   "source": [
    "isinstance(z, object)"
   ]
  },
  {
   "cell_type": "code",
   "execution_count": 22,
   "id": "4388d6d8",
   "metadata": {
    "scrolled": false
   },
   "outputs": [
    {
     "name": "stdout",
     "output_type": "stream",
     "text": [
      "Help on complex object:\n",
      "\n",
      "class complex(object)\n",
      " |  complex(real=0, imag=0)\n",
      " |  \n",
      " |  Create a complex number from a real part and an optional imaginary part.\n",
      " |  \n",
      " |  This is equivalent to (real + imag*1j) where imag defaults to 0.\n",
      " |  \n",
      " |  Methods defined here:\n",
      " |  \n",
      " |  __abs__(self, /)\n",
      " |      abs(self)\n",
      " |  \n",
      " |  __add__(self, value, /)\n",
      " |      Return self+value.\n",
      " |  \n",
      " |  __bool__(self, /)\n",
      " |      True if self else False\n",
      " |  \n",
      " |  __divmod__(self, value, /)\n",
      " |      Return divmod(self, value).\n",
      " |  \n",
      " |  __eq__(self, value, /)\n",
      " |      Return self==value.\n",
      " |  \n",
      " |  __float__(self, /)\n",
      " |      float(self)\n",
      " |  \n",
      " |  __floordiv__(self, value, /)\n",
      " |      Return self//value.\n",
      " |  \n",
      " |  __format__(...)\n",
      " |      complex.__format__() -> str\n",
      " |      \n",
      " |      Convert to a string according to format_spec.\n",
      " |  \n",
      " |  __ge__(self, value, /)\n",
      " |      Return self>=value.\n",
      " |  \n",
      " |  __getattribute__(self, name, /)\n",
      " |      Return getattr(self, name).\n",
      " |  \n",
      " |  __getnewargs__(...)\n",
      " |  \n",
      " |  __gt__(self, value, /)\n",
      " |      Return self>value.\n",
      " |  \n",
      " |  __hash__(self, /)\n",
      " |      Return hash(self).\n",
      " |  \n",
      " |  __int__(self, /)\n",
      " |      int(self)\n",
      " |  \n",
      " |  __le__(self, value, /)\n",
      " |      Return self<=value.\n",
      " |  \n",
      " |  __lt__(self, value, /)\n",
      " |      Return self<value.\n",
      " |  \n",
      " |  __mod__(self, value, /)\n",
      " |      Return self%value.\n",
      " |  \n",
      " |  __mul__(self, value, /)\n",
      " |      Return self*value.\n",
      " |  \n",
      " |  __ne__(self, value, /)\n",
      " |      Return self!=value.\n",
      " |  \n",
      " |  __neg__(self, /)\n",
      " |      -self\n",
      " |  \n",
      " |  __pos__(self, /)\n",
      " |      +self\n",
      " |  \n",
      " |  __pow__(self, value, mod=None, /)\n",
      " |      Return pow(self, value, mod).\n",
      " |  \n",
      " |  __radd__(self, value, /)\n",
      " |      Return value+self.\n",
      " |  \n",
      " |  __rdivmod__(self, value, /)\n",
      " |      Return divmod(value, self).\n",
      " |  \n",
      " |  __repr__(self, /)\n",
      " |      Return repr(self).\n",
      " |  \n",
      " |  __rfloordiv__(self, value, /)\n",
      " |      Return value//self.\n",
      " |  \n",
      " |  __rmod__(self, value, /)\n",
      " |      Return value%self.\n",
      " |  \n",
      " |  __rmul__(self, value, /)\n",
      " |      Return value*self.\n",
      " |  \n",
      " |  __rpow__(self, value, mod=None, /)\n",
      " |      Return pow(value, self, mod).\n",
      " |  \n",
      " |  __rsub__(self, value, /)\n",
      " |      Return value-self.\n",
      " |  \n",
      " |  __rtruediv__(self, value, /)\n",
      " |      Return value/self.\n",
      " |  \n",
      " |  __sub__(self, value, /)\n",
      " |      Return self-value.\n",
      " |  \n",
      " |  __truediv__(self, value, /)\n",
      " |      Return self/value.\n",
      " |  \n",
      " |  conjugate(...)\n",
      " |      complex.conjugate() -> complex\n",
      " |      \n",
      " |      Return the complex conjugate of its argument. (3-4j).conjugate() == 3+4j.\n",
      " |  \n",
      " |  ----------------------------------------------------------------------\n",
      " |  Static methods defined here:\n",
      " |  \n",
      " |  __new__(*args, **kwargs) from builtins.type\n",
      " |      Create and return a new object.  See help(type) for accurate signature.\n",
      " |  \n",
      " |  ----------------------------------------------------------------------\n",
      " |  Data descriptors defined here:\n",
      " |  \n",
      " |  imag\n",
      " |      the imaginary part of a complex number\n",
      " |  \n",
      " |  real\n",
      " |      the real part of a complex number\n",
      "\n"
     ]
    }
   ],
   "source": [
    "help(z)"
   ]
  },
  {
   "cell_type": "code",
   "execution_count": 24,
   "id": "1af6166b",
   "metadata": {},
   "outputs": [
    {
     "data": {
      "text/plain": [
       "['conjugate', 'imag', 'real']"
      ]
     },
     "execution_count": 24,
     "metadata": {},
     "output_type": "execute_result"
    }
   ],
   "source": [
    "[name for name in dir(z) if not name.startswith(\"__\")]"
   ]
  },
  {
   "cell_type": "code",
   "execution_count": 25,
   "id": "51c36cd7",
   "metadata": {},
   "outputs": [
    {
     "data": {
      "text/plain": [
       "0.5"
      ]
     },
     "execution_count": 25,
     "metadata": {},
     "output_type": "execute_result"
    }
   ],
   "source": [
    "z.real"
   ]
  },
  {
   "cell_type": "code",
   "execution_count": 26,
   "id": "a2efd157",
   "metadata": {},
   "outputs": [
    {
     "data": {
      "text/plain": [
       "1.5"
      ]
     },
     "execution_count": 26,
     "metadata": {},
     "output_type": "execute_result"
    }
   ],
   "source": [
    "z.imag"
   ]
  },
  {
   "cell_type": "code",
   "execution_count": 27,
   "id": "3ee81fc6",
   "metadata": {},
   "outputs": [
    {
     "ename": "AttributeError",
     "evalue": "readonly attribute",
     "output_type": "error",
     "traceback": [
      "\u001b[0;31m---------------------------------------------------------------------------\u001b[0m",
      "\u001b[0;31mAttributeError\u001b[0m                            Traceback (most recent call last)",
      "Input \u001b[0;32mIn [27]\u001b[0m, in \u001b[0;36m<cell line: 1>\u001b[0;34m()\u001b[0m\n\u001b[0;32m----> 1\u001b[0m z\u001b[38;5;241m.\u001b[39mreal \u001b[38;5;241m=\u001b[39m \u001b[38;5;241m8.0\u001b[39m\n",
      "\u001b[0;31mAttributeError\u001b[0m: readonly attribute"
     ]
    }
   ],
   "source": [
    "z.real = 8.0"
   ]
  },
  {
   "cell_type": "code",
   "execution_count": 28,
   "id": "c425e298",
   "metadata": {},
   "outputs": [
    {
     "data": {
      "text/plain": [
       "<function complex.conjugate>"
      ]
     },
     "execution_count": 28,
     "metadata": {},
     "output_type": "execute_result"
    }
   ],
   "source": [
    "z.conjugate"
   ]
  },
  {
   "cell_type": "code",
   "execution_count": 29,
   "id": "52783107",
   "metadata": {},
   "outputs": [
    {
     "data": {
      "text/plain": [
       "(0.5-1.5j)"
      ]
     },
     "execution_count": 29,
     "metadata": {},
     "output_type": "execute_result"
    }
   ],
   "source": [
    "z.conjugate()"
   ]
  },
  {
   "cell_type": "code",
   "execution_count": 30,
   "id": "7b25f4a7",
   "metadata": {},
   "outputs": [
    {
     "data": {
      "text/plain": [
       "(0.5-1.5j)"
      ]
     },
     "execution_count": 30,
     "metadata": {},
     "output_type": "execute_result"
    }
   ],
   "source": [
    "complex.conjugate(z)"
   ]
  },
  {
   "cell_type": "code",
   "execution_count": 31,
   "id": "65637880",
   "metadata": {},
   "outputs": [
    {
     "data": {
      "text/plain": [
       "['__abs__',\n",
       " '__add__',\n",
       " '__bool__',\n",
       " '__class__',\n",
       " '__delattr__',\n",
       " '__dir__',\n",
       " '__divmod__',\n",
       " '__doc__',\n",
       " '__eq__',\n",
       " '__float__',\n",
       " '__floordiv__',\n",
       " '__format__',\n",
       " '__ge__',\n",
       " '__getattribute__',\n",
       " '__getnewargs__',\n",
       " '__gt__',\n",
       " '__hash__',\n",
       " '__init__',\n",
       " '__init_subclass__',\n",
       " '__int__',\n",
       " '__le__',\n",
       " '__lt__',\n",
       " '__mod__',\n",
       " '__mul__',\n",
       " '__ne__',\n",
       " '__neg__',\n",
       " '__new__',\n",
       " '__pos__',\n",
       " '__pow__',\n",
       " '__radd__',\n",
       " '__rdivmod__',\n",
       " '__reduce__',\n",
       " '__reduce_ex__',\n",
       " '__repr__',\n",
       " '__rfloordiv__',\n",
       " '__rmod__',\n",
       " '__rmul__',\n",
       " '__rpow__',\n",
       " '__rsub__',\n",
       " '__rtruediv__',\n",
       " '__setattr__',\n",
       " '__sizeof__',\n",
       " '__str__',\n",
       " '__sub__',\n",
       " '__subclasshook__',\n",
       " '__truediv__',\n",
       " 'conjugate',\n",
       " 'imag',\n",
       " 'real']"
      ]
     },
     "execution_count": 31,
     "metadata": {},
     "output_type": "execute_result"
    }
   ],
   "source": [
    "dir(z)"
   ]
  },
  {
   "cell_type": "code",
   "execution_count": 32,
   "id": "1c66eda5",
   "metadata": {},
   "outputs": [],
   "source": [
    "w = z.conjugate()"
   ]
  },
  {
   "cell_type": "code",
   "execution_count": 33,
   "id": "7d2a4d99",
   "metadata": {},
   "outputs": [
    {
     "data": {
      "text/plain": [
       "(1+0j)"
      ]
     },
     "execution_count": 33,
     "metadata": {},
     "output_type": "execute_result"
    }
   ],
   "source": [
    "complex.__add__(z, w)"
   ]
  },
  {
   "cell_type": "code",
   "execution_count": 34,
   "id": "0f9c5fd4",
   "metadata": {},
   "outputs": [
    {
     "data": {
      "text/plain": [
       "(1+0j)"
      ]
     },
     "execution_count": 34,
     "metadata": {},
     "output_type": "execute_result"
    }
   ],
   "source": [
    "z.__add__(w)"
   ]
  },
  {
   "cell_type": "code",
   "execution_count": 35,
   "id": "f3f62da7",
   "metadata": {},
   "outputs": [
    {
     "data": {
      "text/plain": [
       "(1+0j)"
      ]
     },
     "execution_count": 35,
     "metadata": {},
     "output_type": "execute_result"
    }
   ],
   "source": [
    "z + w"
   ]
  },
  {
   "cell_type": "code",
   "execution_count": 36,
   "id": "72af2768",
   "metadata": {},
   "outputs": [
    {
     "data": {
      "text/plain": [
       "'Create a complex number from a real part and an optional imaginary part.\\n\\nThis is equivalent to (real + imag*1j) where imag defaults to 0.'"
      ]
     },
     "execution_count": 36,
     "metadata": {},
     "output_type": "execute_result"
    }
   ],
   "source": [
    "z.__doc__"
   ]
  },
  {
   "cell_type": "code",
   "execution_count": 37,
   "id": "797a994f",
   "metadata": {},
   "outputs": [
    {
     "name": "stdout",
     "output_type": "stream",
     "text": [
      "Help on complex object:\n",
      "\n",
      "class complex(object)\n",
      " |  complex(real=0, imag=0)\n",
      " |  \n",
      " |  Create a complex number from a real part and an optional imaginary part.\n",
      " |  \n",
      " |  This is equivalent to (real + imag*1j) where imag defaults to 0.\n",
      " |  \n",
      " |  Methods defined here:\n",
      " |  \n",
      " |  __abs__(self, /)\n",
      " |      abs(self)\n",
      " |  \n",
      " |  __add__(self, value, /)\n",
      " |      Return self+value.\n",
      " |  \n",
      " |  __bool__(self, /)\n",
      " |      True if self else False\n",
      " |  \n",
      " |  __divmod__(self, value, /)\n",
      " |      Return divmod(self, value).\n",
      " |  \n",
      " |  __eq__(self, value, /)\n",
      " |      Return self==value.\n",
      " |  \n",
      " |  __float__(self, /)\n",
      " |      float(self)\n",
      " |  \n",
      " |  __floordiv__(self, value, /)\n",
      " |      Return self//value.\n",
      " |  \n",
      " |  __format__(...)\n",
      " |      complex.__format__() -> str\n",
      " |      \n",
      " |      Convert to a string according to format_spec.\n",
      " |  \n",
      " |  __ge__(self, value, /)\n",
      " |      Return self>=value.\n",
      " |  \n",
      " |  __getattribute__(self, name, /)\n",
      " |      Return getattr(self, name).\n",
      " |  \n",
      " |  __getnewargs__(...)\n",
      " |  \n",
      " |  __gt__(self, value, /)\n",
      " |      Return self>value.\n",
      " |  \n",
      " |  __hash__(self, /)\n",
      " |      Return hash(self).\n",
      " |  \n",
      " |  __int__(self, /)\n",
      " |      int(self)\n",
      " |  \n",
      " |  __le__(self, value, /)\n",
      " |      Return self<=value.\n",
      " |  \n",
      " |  __lt__(self, value, /)\n",
      " |      Return self<value.\n",
      " |  \n",
      " |  __mod__(self, value, /)\n",
      " |      Return self%value.\n",
      " |  \n",
      " |  __mul__(self, value, /)\n",
      " |      Return self*value.\n",
      " |  \n",
      " |  __ne__(self, value, /)\n",
      " |      Return self!=value.\n",
      " |  \n",
      " |  __neg__(self, /)\n",
      " |      -self\n",
      " |  \n",
      " |  __pos__(self, /)\n",
      " |      +self\n",
      " |  \n",
      " |  __pow__(self, value, mod=None, /)\n",
      " |      Return pow(self, value, mod).\n",
      " |  \n",
      " |  __radd__(self, value, /)\n",
      " |      Return value+self.\n",
      " |  \n",
      " |  __rdivmod__(self, value, /)\n",
      " |      Return divmod(value, self).\n",
      " |  \n",
      " |  __repr__(self, /)\n",
      " |      Return repr(self).\n",
      " |  \n",
      " |  __rfloordiv__(self, value, /)\n",
      " |      Return value//self.\n",
      " |  \n",
      " |  __rmod__(self, value, /)\n",
      " |      Return value%self.\n",
      " |  \n",
      " |  __rmul__(self, value, /)\n",
      " |      Return value*self.\n",
      " |  \n",
      " |  __rpow__(self, value, mod=None, /)\n",
      " |      Return pow(value, self, mod).\n",
      " |  \n",
      " |  __rsub__(self, value, /)\n",
      " |      Return value-self.\n",
      " |  \n",
      " |  __rtruediv__(self, value, /)\n",
      " |      Return value/self.\n",
      " |  \n",
      " |  __sub__(self, value, /)\n",
      " |      Return self-value.\n",
      " |  \n",
      " |  __truediv__(self, value, /)\n",
      " |      Return self/value.\n",
      " |  \n",
      " |  conjugate(...)\n",
      " |      complex.conjugate() -> complex\n",
      " |      \n",
      " |      Return the complex conjugate of its argument. (3-4j).conjugate() == 3+4j.\n",
      " |  \n",
      " |  ----------------------------------------------------------------------\n",
      " |  Static methods defined here:\n",
      " |  \n",
      " |  __new__(*args, **kwargs) from builtins.type\n",
      " |      Create and return a new object.  See help(type) for accurate signature.\n",
      " |  \n",
      " |  ----------------------------------------------------------------------\n",
      " |  Data descriptors defined here:\n",
      " |  \n",
      " |  imag\n",
      " |      the imaginary part of a complex number\n",
      " |  \n",
      " |  real\n",
      " |      the real part of a complex number\n",
      "\n"
     ]
    }
   ],
   "source": [
    "help(z)"
   ]
  },
  {
   "cell_type": "code",
   "execution_count": 38,
   "id": "b6f9e5f7",
   "metadata": {},
   "outputs": [],
   "source": [
    "class Complex:\n",
    "    pass"
   ]
  },
  {
   "cell_type": "code",
   "execution_count": 39,
   "id": "c7f24e80",
   "metadata": {},
   "outputs": [
    {
     "data": {
      "text/plain": [
       "__main__.Complex"
      ]
     },
     "execution_count": 39,
     "metadata": {},
     "output_type": "execute_result"
    }
   ],
   "source": [
    "Complex"
   ]
  },
  {
   "cell_type": "code",
   "execution_count": 40,
   "id": "a6ab38be",
   "metadata": {},
   "outputs": [
    {
     "data": {
      "text/plain": [
       "<__main__.Complex at 0x7efe02b3ec70>"
      ]
     },
     "execution_count": 40,
     "metadata": {},
     "output_type": "execute_result"
    }
   ],
   "source": [
    "Complex()"
   ]
  },
  {
   "cell_type": "code",
   "execution_count": 44,
   "id": "b3dceef9",
   "metadata": {},
   "outputs": [
    {
     "data": {
      "text/plain": [
       "True"
      ]
     },
     "execution_count": 44,
     "metadata": {},
     "output_type": "execute_result"
    }
   ],
   "source": [
    "c = Complex()\n",
    "isinstance(c, Complex)"
   ]
  },
  {
   "cell_type": "code",
   "execution_count": 45,
   "id": "b37d9188",
   "metadata": {},
   "outputs": [],
   "source": [
    "c.real = 1.5"
   ]
  },
  {
   "cell_type": "code",
   "execution_count": 46,
   "id": "ee2fd91e",
   "metadata": {},
   "outputs": [],
   "source": [
    "c.imag = 0.5"
   ]
  },
  {
   "cell_type": "code",
   "execution_count": 47,
   "id": "f1323c9f",
   "metadata": {},
   "outputs": [
    {
     "data": {
      "text/plain": [
       "(1.5, 0.5)"
      ]
     },
     "execution_count": 47,
     "metadata": {},
     "output_type": "execute_result"
    }
   ],
   "source": [
    "c.real, c.imag"
   ]
  },
  {
   "cell_type": "code",
   "execution_count": 48,
   "id": "fdb7d744",
   "metadata": {},
   "outputs": [],
   "source": [
    "def complex_init(c, real, imag):\n",
    "    c.real = real\n",
    "    c.imag = imag"
   ]
  },
  {
   "cell_type": "code",
   "execution_count": 49,
   "id": "8cf0d279",
   "metadata": {},
   "outputs": [],
   "source": [
    "c = Complex()\n",
    "complex_init(c, 1.5, 0.5)"
   ]
  },
  {
   "cell_type": "code",
   "execution_count": 50,
   "id": "0a776ec6",
   "metadata": {},
   "outputs": [
    {
     "data": {
      "text/plain": [
       "(1.5, 0.5)"
      ]
     },
     "execution_count": 50,
     "metadata": {},
     "output_type": "execute_result"
    }
   ],
   "source": [
    "c.real, c.imag"
   ]
  },
  {
   "cell_type": "code",
   "execution_count": 59,
   "id": "e252d9c8",
   "metadata": {},
   "outputs": [],
   "source": [
    "class Complex:\n",
    "    def __init__(self, real, imag):\n",
    "        self.real = real\n",
    "        self.imag = imag"
   ]
  },
  {
   "cell_type": "code",
   "execution_count": 60,
   "id": "e3809791",
   "metadata": {},
   "outputs": [
    {
     "data": {
      "text/plain": [
       "(1.5, 0.5)"
      ]
     },
     "execution_count": 60,
     "metadata": {},
     "output_type": "execute_result"
    }
   ],
   "source": [
    "c = Complex(1.5, 0.5)\n",
    "c.real, c.imag"
   ]
  },
  {
   "cell_type": "code",
   "execution_count": 61,
   "id": "b9f47366",
   "metadata": {},
   "outputs": [
    {
     "data": {
      "text/plain": [
       "(1.5+0.5j)"
      ]
     },
     "execution_count": 61,
     "metadata": {},
     "output_type": "execute_result"
    }
   ],
   "source": [
    "1.5+0.5j"
   ]
  },
  {
   "cell_type": "code",
   "execution_count": 54,
   "id": "21ef393c",
   "metadata": {},
   "outputs": [
    {
     "data": {
      "text/plain": [
       "(1.5+0.5j)"
      ]
     },
     "execution_count": 54,
     "metadata": {},
     "output_type": "execute_result"
    }
   ],
   "source": [
    "complex(1.5, 0.5)"
   ]
  },
  {
   "cell_type": "code",
   "execution_count": 63,
   "id": "89eebc8c",
   "metadata": {},
   "outputs": [],
   "source": [
    "def complex_conjugate(z):\n",
    "    return Complex(z.real, -z.imag)"
   ]
  },
  {
   "cell_type": "code",
   "execution_count": 75,
   "id": "25dcffbb",
   "metadata": {},
   "outputs": [],
   "source": [
    "z = Complex(1.5, 0.5)\n",
    "w = complex_conjugate(z)"
   ]
  },
  {
   "cell_type": "code",
   "execution_count": 76,
   "id": "f54fdc00",
   "metadata": {},
   "outputs": [
    {
     "data": {
      "text/plain": [
       "(1.5, -0.5)"
      ]
     },
     "execution_count": 76,
     "metadata": {},
     "output_type": "execute_result"
    }
   ],
   "source": [
    "w.real, w.imag"
   ]
  },
  {
   "cell_type": "code",
   "execution_count": 77,
   "id": "cc9f1f27",
   "metadata": {},
   "outputs": [],
   "source": [
    "class Complex:\n",
    "    def __init__(self, real, imag):\n",
    "        self.real = real\n",
    "        self.imag = imag\n",
    "    def conjugate(self):\n",
    "        return Complex(self.real, -self.imag)"
   ]
  },
  {
   "cell_type": "code",
   "execution_count": 78,
   "id": "abbdda20",
   "metadata": {},
   "outputs": [
    {
     "data": {
      "text/plain": [
       "(1.5, -0.5)"
      ]
     },
     "execution_count": 78,
     "metadata": {},
     "output_type": "execute_result"
    }
   ],
   "source": [
    "w = z.conjugate()\n",
    "w.real, w.imag"
   ]
  },
  {
   "cell_type": "code",
   "execution_count": 82,
   "id": "dd647af7",
   "metadata": {},
   "outputs": [],
   "source": [
    "class Complex:\n",
    "    def __init__(self, real, imag):\n",
    "        self.real = real\n",
    "        self.imag = imag\n",
    "    def conjugate(self):\n",
    "        return Complex(self.real, -self.imag)\n",
    "    def __add__(self, other):\n",
    "        return Complex(self.real + other.real, self.imag + other.imag)"
   ]
  },
  {
   "cell_type": "code",
   "execution_count": 84,
   "id": "ced820d8",
   "metadata": {},
   "outputs": [],
   "source": [
    "z = Complex(1.5, 0.5)\n",
    "w = z.conjugate()\n",
    "u = w + z"
   ]
  },
  {
   "cell_type": "code",
   "execution_count": 85,
   "id": "0a4f791c",
   "metadata": {},
   "outputs": [
    {
     "data": {
      "text/plain": [
       "(3.0, 0.0)"
      ]
     },
     "execution_count": 85,
     "metadata": {},
     "output_type": "execute_result"
    }
   ],
   "source": [
    "u.real, u.imag"
   ]
  },
  {
   "cell_type": "code",
   "execution_count": 86,
   "id": "a3028b5d",
   "metadata": {},
   "outputs": [
    {
     "data": {
      "text/plain": [
       "<__main__.Complex at 0x7efe036c3c70>"
      ]
     },
     "execution_count": 86,
     "metadata": {},
     "output_type": "execute_result"
    }
   ],
   "source": [
    "u"
   ]
  },
  {
   "cell_type": "code",
   "execution_count": 87,
   "id": "38d90d9e",
   "metadata": {},
   "outputs": [
    {
     "data": {
      "text/plain": [
       "(1.5+0.5j)"
      ]
     },
     "execution_count": 87,
     "metadata": {},
     "output_type": "execute_result"
    }
   ],
   "source": [
    "complex(1.5, 0.5)"
   ]
  },
  {
   "cell_type": "code",
   "execution_count": 88,
   "id": "9402feaf",
   "metadata": {},
   "outputs": [],
   "source": [
    "class Complex:\n",
    "    def __init__(self, real, imag):\n",
    "        self.real = real\n",
    "        self.imag = imag\n",
    "    def conjugate(self):\n",
    "        return Complex(self.real, -self.imag)\n",
    "    def __add__(self, other):\n",
    "        return Complex(self.real + other.real, self.imag + other.imag)\n",
    "    def __repr__(self):\n",
    "        return f\"({self.real}+{self.imag}j)\"\n",
    "    "
   ]
  },
  {
   "cell_type": "code",
   "execution_count": 91,
   "id": "31ee4cff",
   "metadata": {},
   "outputs": [
    {
     "data": {
      "text/plain": [
       "'Hello Sébastien'"
      ]
     },
     "execution_count": 91,
     "metadata": {},
     "output_type": "execute_result"
    }
   ],
   "source": [
    "name = \"Sébastien\"\n",
    "f\"Hello {name}\""
   ]
  },
  {
   "cell_type": "code",
   "execution_count": 92,
   "id": "00c79949",
   "metadata": {},
   "outputs": [
    {
     "data": {
      "text/plain": [
       "(1.5+0.5j)"
      ]
     },
     "execution_count": 92,
     "metadata": {},
     "output_type": "execute_result"
    }
   ],
   "source": [
    "z = Complex(1.5, 0.5)\n",
    "z"
   ]
  },
  {
   "cell_type": "code",
   "execution_count": 93,
   "id": "f1d63399",
   "metadata": {},
   "outputs": [
    {
     "data": {
      "text/plain": [
       "(1.5+-0.5j)"
      ]
     },
     "execution_count": 93,
     "metadata": {},
     "output_type": "execute_result"
    }
   ],
   "source": [
    "z = Complex(1.5, -0.5)\n",
    "z"
   ]
  },
  {
   "cell_type": "code",
   "execution_count": 94,
   "id": "3bf8011e",
   "metadata": {},
   "outputs": [
    {
     "data": {
      "text/plain": [
       "(1.5-0.5j)"
      ]
     },
     "execution_count": 94,
     "metadata": {},
     "output_type": "execute_result"
    }
   ],
   "source": [
    "eval(\"(1.5+-0.5j)\")"
   ]
  },
  {
   "cell_type": "code",
   "execution_count": 95,
   "id": "ad953c53",
   "metadata": {},
   "outputs": [
    {
     "data": {
      "text/plain": [
       "(Hello!+Truej)"
      ]
     },
     "execution_count": 95,
     "metadata": {},
     "output_type": "execute_result"
    }
   ],
   "source": [
    "Complex(\"Hello!\", True)"
   ]
  },
  {
   "cell_type": "code",
   "execution_count": 96,
   "id": "2b11e066",
   "metadata": {},
   "outputs": [],
   "source": [
    "class Complex:\n",
    "    def __init__(self, real, imag):\n",
    "        if not (isinstance(real, float) and isinstance(imag, float)):\n",
    "            error = f\"{real!r} and/or {imag!r} are not floats\"\n",
    "            raise TypeError(error)\n",
    "        else:\n",
    "            self.real = real\n",
    "            self.imag = imag\n",
    "    def conjugate(self):\n",
    "        return Complex(self.real, -self.imag)\n",
    "    def __add__(self, other):\n",
    "        return Complex(self.real + other.real, self.imag + other.imag)\n",
    "    def __repr__(self):\n",
    "        return f\"({self.real}+{self.imag}j)\""
   ]
  },
  {
   "cell_type": "code",
   "execution_count": 97,
   "id": "d2bcc1e9",
   "metadata": {},
   "outputs": [
    {
     "ename": "TypeError",
     "evalue": "'Hello!' and/or True are not floats",
     "output_type": "error",
     "traceback": [
      "\u001b[0;31m---------------------------------------------------------------------------\u001b[0m",
      "\u001b[0;31mTypeError\u001b[0m                                 Traceback (most recent call last)",
      "Input \u001b[0;32mIn [97]\u001b[0m, in \u001b[0;36m<cell line: 1>\u001b[0;34m()\u001b[0m\n\u001b[0;32m----> 1\u001b[0m \u001b[43mComplex\u001b[49m\u001b[43m(\u001b[49m\u001b[38;5;124;43m\"\u001b[39;49m\u001b[38;5;124;43mHello!\u001b[39;49m\u001b[38;5;124;43m\"\u001b[39;49m\u001b[43m,\u001b[49m\u001b[43m \u001b[49m\u001b[38;5;28;43;01mTrue\u001b[39;49;00m\u001b[43m)\u001b[49m\n",
      "Input \u001b[0;32mIn [96]\u001b[0m, in \u001b[0;36mComplex.__init__\u001b[0;34m(self, real, imag)\u001b[0m\n\u001b[1;32m      3\u001b[0m \u001b[38;5;28;01mif\u001b[39;00m \u001b[38;5;129;01mnot\u001b[39;00m (\u001b[38;5;28misinstance\u001b[39m(real, \u001b[38;5;28mfloat\u001b[39m) \u001b[38;5;129;01mand\u001b[39;00m \u001b[38;5;28misinstance\u001b[39m(imag, \u001b[38;5;28mfloat\u001b[39m)):\n\u001b[1;32m      4\u001b[0m     error \u001b[38;5;241m=\u001b[39m \u001b[38;5;124mf\u001b[39m\u001b[38;5;124m\"\u001b[39m\u001b[38;5;132;01m{\u001b[39;00mreal\u001b[38;5;132;01m!r}\u001b[39;00m\u001b[38;5;124m and/or \u001b[39m\u001b[38;5;132;01m{\u001b[39;00mimag\u001b[38;5;132;01m!r}\u001b[39;00m\u001b[38;5;124m are not floats\u001b[39m\u001b[38;5;124m\"\u001b[39m\n\u001b[0;32m----> 5\u001b[0m     \u001b[38;5;28;01mraise\u001b[39;00m \u001b[38;5;167;01mTypeError\u001b[39;00m(error)\n\u001b[1;32m      6\u001b[0m \u001b[38;5;28;01melse\u001b[39;00m:\n\u001b[1;32m      7\u001b[0m     \u001b[38;5;28mself\u001b[39m\u001b[38;5;241m.\u001b[39mreal \u001b[38;5;241m=\u001b[39m real\n",
      "\u001b[0;31mTypeError\u001b[0m: 'Hello!' and/or True are not floats"
     ]
    }
   ],
   "source": [
    "Complex(\"Hello!\", True)"
   ]
  },
  {
   "cell_type": "code",
   "execution_count": 98,
   "id": "bb6de086",
   "metadata": {},
   "outputs": [],
   "source": [
    "z = Complex(1.5, 0.5)"
   ]
  },
  {
   "cell_type": "code",
   "execution_count": 99,
   "id": "aff79a54",
   "metadata": {},
   "outputs": [
    {
     "data": {
      "text/plain": [
       "(Hello!+0.5j)"
      ]
     },
     "execution_count": 99,
     "metadata": {},
     "output_type": "execute_result"
    }
   ],
   "source": [
    "z.real = \"Hello!\"\n",
    "z"
   ]
  },
  {
   "cell_type": "code",
   "execution_count": 105,
   "id": "7eb59668",
   "metadata": {},
   "outputs": [],
   "source": [
    "class Complex:\n",
    "    def __init__(self, real, imag):\n",
    "        if not (isinstance(real, float) and isinstance(imag, float)):\n",
    "            error = f\"{real!r} and/or {imag!r} are not floats\"\n",
    "            raise TypeError(error)\n",
    "        else:\n",
    "            self._real = real\n",
    "            self._imag = imag\n",
    "    def get_real(self):\n",
    "        return self._real\n",
    "    def get_imag(self):\n",
    "        return self._imag\n",
    "    def conjugate(self):\n",
    "        return Complex(self._real, -self._imag)\n",
    "    def __add__(self, other):\n",
    "        return Complex(self._real + other._real, self._imag + other._imag)\n",
    "    def __repr__(self):\n",
    "        return f\"({self._real}+{self._imag}j)\""
   ]
  },
  {
   "cell_type": "code",
   "execution_count": 106,
   "id": "346ef175",
   "metadata": {},
   "outputs": [
    {
     "data": {
      "text/plain": [
       "(Toto!+0.5j)"
      ]
     },
     "execution_count": 106,
     "metadata": {},
     "output_type": "execute_result"
    }
   ],
   "source": [
    "z = Complex(1.5, 0.5)\n",
    "z._real= \"Toto!\"\n",
    "z"
   ]
  },
  {
   "cell_type": "code",
   "execution_count": 107,
   "id": "d9781563",
   "metadata": {},
   "outputs": [
    {
     "data": {
      "text/plain": [
       "1.5"
      ]
     },
     "execution_count": 107,
     "metadata": {},
     "output_type": "execute_result"
    }
   ],
   "source": [
    "z = Complex(1.5, 0.5)\n",
    "z.get_real()"
   ]
  },
  {
   "cell_type": "code",
   "execution_count": 115,
   "id": "aa281a3f",
   "metadata": {},
   "outputs": [],
   "source": [
    "class Complex:\n",
    "    def __init__(self, real, imag):\n",
    "        if not (isinstance(real, float) and isinstance(imag, float)):\n",
    "            error = f\"{real!r} and/or {imag!r} are not floats\"\n",
    "            raise TypeError(error)\n",
    "        else:\n",
    "            self._real = real\n",
    "            self._imag = imag\n",
    "    def get_real(self):\n",
    "        #raise RuntimeError(\"not a chance!\")\n",
    "        return self._real\n",
    "    def set_real(self, value):\n",
    "        self._real = value\n",
    "    real = property(get_real, set_real)\n",
    "    def get_imag(self):\n",
    "        return self._imag\n",
    "    imag = property(get_imag)\n",
    "    def conjugate(self):\n",
    "        return Complex(self._real, -self._imag)\n",
    "    def __add__(self, other):\n",
    "        return Complex(self._real + other._real, self._imag + other._imag)\n",
    "    def __repr__(self):\n",
    "        return f\"({self._real}+{self._imag}j)\""
   ]
  },
  {
   "cell_type": "code",
   "execution_count": 116,
   "id": "7fce989b",
   "metadata": {},
   "outputs": [
    {
     "data": {
      "text/plain": [
       "0.5"
      ]
     },
     "execution_count": 116,
     "metadata": {},
     "output_type": "execute_result"
    }
   ],
   "source": [
    "z = Complex(0.5, 1.5)\n",
    "z.real"
   ]
  },
  {
   "cell_type": "code",
   "execution_count": 117,
   "id": "255bc352",
   "metadata": {},
   "outputs": [],
   "source": [
    "z.real = 0.9"
   ]
  },
  {
   "cell_type": "code",
   "execution_count": 118,
   "id": "e8085380",
   "metadata": {},
   "outputs": [
    {
     "data": {
      "text/plain": [
       "(0.9+1.5j)"
      ]
     },
     "execution_count": 118,
     "metadata": {},
     "output_type": "execute_result"
    }
   ],
   "source": [
    "z"
   ]
  },
  {
   "cell_type": "code",
   "execution_count": 119,
   "id": "58e1f165",
   "metadata": {},
   "outputs": [],
   "source": [
    "class Complex2(Complex):\n",
    "    pass"
   ]
  },
  {
   "cell_type": "code",
   "execution_count": 122,
   "id": "a43d8448",
   "metadata": {},
   "outputs": [
    {
     "data": {
      "text/plain": [
       "(1.5+0.5j)"
      ]
     },
     "execution_count": 122,
     "metadata": {},
     "output_type": "execute_result"
    }
   ],
   "source": [
    "z = Complex2(1.5, 0.5)\n",
    "z"
   ]
  },
  {
   "cell_type": "code",
   "execution_count": 123,
   "id": "6f35b2a0",
   "metadata": {},
   "outputs": [
    {
     "data": {
      "text/plain": [
       "(1.5+-0.5j)"
      ]
     },
     "execution_count": 123,
     "metadata": {},
     "output_type": "execute_result"
    }
   ],
   "source": [
    "Complex2(1.5, 0.5).conjugate()"
   ]
  },
  {
   "cell_type": "code",
   "execution_count": 124,
   "id": "adca34b3",
   "metadata": {},
   "outputs": [
    {
     "data": {
      "text/plain": [
       "(2.0+8.0j)"
      ]
     },
     "execution_count": 124,
     "metadata": {},
     "output_type": "execute_result"
    }
   ],
   "source": [
    "Complex2(1.5, 0.5) + Complex2(0.5, 7.5)"
   ]
  },
  {
   "cell_type": "code",
   "execution_count": 125,
   "id": "5dd7921e",
   "metadata": {},
   "outputs": [],
   "source": [
    "class Complex2(Complex):\n",
    "    def __mul__(self, other):\n",
    "        return Complex2(\n",
    "            self.real*other.real - self.imag*other.imag,\n",
    "            self.real*other.imag + self.imag*other.real\n",
    "        )"
   ]
  },
  {
   "cell_type": "code",
   "execution_count": null,
   "id": "95ba5d60",
   "metadata": {},
   "outputs": [],
   "source": []
  },
  {
   "cell_type": "code",
   "execution_count": 126,
   "id": "e28bb17b",
   "metadata": {},
   "outputs": [
    {
     "data": {
      "text/plain": [
       "(-1.0+0.0j)"
      ]
     },
     "execution_count": 126,
     "metadata": {},
     "output_type": "execute_result"
    }
   ],
   "source": [
    "i = Complex2(0.0, 1.0)\n",
    "i*i"
   ]
  },
  {
   "cell_type": "code",
   "execution_count": 128,
   "id": "263833b8",
   "metadata": {},
   "outputs": [
    {
     "ename": "TypeError",
     "evalue": "unsupported operand type(s) for *: 'Complex' and 'Complex2'",
     "output_type": "error",
     "traceback": [
      "\u001b[0;31m---------------------------------------------------------------------------\u001b[0m",
      "\u001b[0;31mTypeError\u001b[0m                                 Traceback (most recent call last)",
      "Input \u001b[0;32mIn [128]\u001b[0m, in \u001b[0;36m<cell line: 1>\u001b[0;34m()\u001b[0m\n\u001b[0;32m----> 1\u001b[0m \u001b[43m(\u001b[49m\u001b[43mi\u001b[49m\u001b[43m \u001b[49m\u001b[38;5;241;43m+\u001b[39;49m\u001b[43m \u001b[49m\u001b[43mi\u001b[49m\u001b[43m)\u001b[49m\u001b[38;5;241;43m*\u001b[39;49m\u001b[43mi\u001b[49m\n",
      "\u001b[0;31mTypeError\u001b[0m: unsupported operand type(s) for *: 'Complex' and 'Complex2'"
     ]
    }
   ],
   "source": [
    "(i + i)*i"
   ]
  },
  {
   "cell_type": "code",
   "execution_count": 130,
   "id": "a499dfcc",
   "metadata": {},
   "outputs": [],
   "source": [
    "class Complex2(Complex):\n",
    "    def __mul__(self, other):\n",
    "        return Complex2(\n",
    "            self.real*other.real - self.imag*other.imag,\n",
    "            self.real*other.imag + self.imag*other.real\n",
    "        )\n",
    "    def __repr__(self):\n",
    "        if self.imag >= 0:\n",
    "            return f\"({self.real}+{self.imag}j)\"\n",
    "        else:\n",
    "            return f\"({self.real}{self.imag}j)\""
   ]
  },
  {
   "cell_type": "code",
   "execution_count": 131,
   "id": "ac82dbe6",
   "metadata": {},
   "outputs": [
    {
     "data": {
      "text/plain": [
       "(1.0-1.0j)"
      ]
     },
     "execution_count": 131,
     "metadata": {},
     "output_type": "execute_result"
    }
   ],
   "source": [
    "Complex2(1.0, -1.0)"
   ]
  },
  {
   "cell_type": "code",
   "execution_count": null,
   "id": "426e2acc",
   "metadata": {},
   "outputs": [],
   "source": []
  },
  {
   "cell_type": "code",
   "execution_count": 132,
   "id": "27fc9cba",
   "metadata": {},
   "outputs": [
    {
     "data": {
      "text/plain": [
       "(0.5+1.5j)"
      ]
     },
     "execution_count": 132,
     "metadata": {},
     "output_type": "execute_result"
    }
   ],
   "source": [
    "Complex2(0.5, 1.5)"
   ]
  },
  {
   "cell_type": "code",
   "execution_count": 136,
   "id": "4974c176",
   "metadata": {},
   "outputs": [],
   "source": [
    "class Complex2(Complex):\n",
    "    def __mul__(self, other):\n",
    "        return Complex2(\n",
    "            self.real*other.real - self.imag*other.imag,\n",
    "            self.real*other.imag + self.imag*other.real\n",
    "        )\n",
    "    def __repr__(self):\n",
    "        return super().__repr__().replace(\"+-\", \"-\")\n",
    "        #if self.imag >= 0:\n",
    "        #    return super().__repr__()\n",
    "        #else:\n",
    "        #    return f\"({self.real}{self.imag}j)\""
   ]
  },
  {
   "cell_type": "code",
   "execution_count": 137,
   "id": "d7a3946c",
   "metadata": {},
   "outputs": [
    {
     "data": {
      "text/plain": [
       "(1.0-1.0j)"
      ]
     },
     "execution_count": 137,
     "metadata": {},
     "output_type": "execute_result"
    }
   ],
   "source": [
    "Complex2(1.0, -1.0)"
   ]
  },
  {
   "cell_type": "code",
   "execution_count": 138,
   "id": "4d19db58",
   "metadata": {},
   "outputs": [
    {
     "data": {
      "text/plain": [
       "(1.0+1.0j)"
      ]
     },
     "execution_count": 138,
     "metadata": {},
     "output_type": "execute_result"
    }
   ],
   "source": [
    "Complex2(1.0, 1.0)"
   ]
  },
  {
   "cell_type": "code",
   "execution_count": 140,
   "id": "b22c7691",
   "metadata": {},
   "outputs": [],
   "source": [
    "class Complex2(Complex):\n",
    "    def __init__(self, real_or_complex, imag=None):\n",
    "        try:\n",
    "            real = real_or_complex.real\n",
    "            imag = real_or_complex.imag\n",
    "        except AttributeError:\n",
    "            real = real_or_complex\n",
    "        super().__init__(real, imag)\n",
    "        #self.real = real\n",
    "        #self.imag = imag\n",
    "    def __mul__(self, other):\n",
    "        return Complex2(\n",
    "            self.real*other.real - self.imag*other.imag,\n",
    "            self.real*other.imag + self.imag*other.real\n",
    "        )\n",
    "    def __repr__(self):\n",
    "        return super().__repr__().replace(\"+-\", \"-\")"
   ]
  },
  {
   "cell_type": "code",
   "execution_count": 141,
   "id": "2b016cb7",
   "metadata": {},
   "outputs": [
    {
     "data": {
      "text/plain": [
       "(1.5+0.0j)"
      ]
     },
     "execution_count": 141,
     "metadata": {},
     "output_type": "execute_result"
    }
   ],
   "source": [
    "z = 0.5 + 1.5j\n",
    "w = Complex(0.5, 1.5)\n",
    "u = Complex2(z) \n",
    "v = Complex2(w)\n",
    "Complex2(1.5, 0.5)"
   ]
  },
  {
   "cell_type": "code",
   "execution_count": 142,
   "id": "d5910027",
   "metadata": {},
   "outputs": [
    {
     "data": {
      "text/plain": [
       "((0.5+1.5j), (0.5+1.5j), (0.5+1.5j), (0.5+1.5j))"
      ]
     },
     "execution_count": 142,
     "metadata": {},
     "output_type": "execute_result"
    }
   ],
   "source": [
    "z, w, u, v"
   ]
  }
 ],
 "metadata": {
  "kernelspec": {
   "display_name": "Python 3 (ipykernel)",
   "language": "python",
   "name": "python3"
  },
  "language_info": {
   "codemirror_mode": {
    "name": "ipython",
    "version": 3
   },
   "file_extension": ".py",
   "mimetype": "text/x-python",
   "name": "python",
   "nbconvert_exporter": "python",
   "pygments_lexer": "ipython3",
   "version": "3.9.12"
  }
 },
 "nbformat": 4,
 "nbformat_minor": 5
}
